{
 "cells": [
  {
   "cell_type": "code",
   "execution_count": 207,
   "metadata": {},
   "outputs": [],
   "source": [
    "import os\n",
    "import requests\n",
    "import pandas as pd\n",
    "from lxml import etree\n",
    "from bs4 import BeautifulSoup"
   ]
  },
  {
   "cell_type": "code",
   "execution_count": 208,
   "metadata": {},
   "outputs": [
    {
     "name": "stdout",
     "output_type": "stream",
     "text": [
      "['10q223q23-microdeletion-syndrome', '11-beta-hydroxylase-deficiency', '12q14-microdeletion-syndrome', '15q112-microdeletion', '15q133-microdeletion-syndrome', '15q133-microduplication-syndrome', '15q24-microdeletion-syndrome', '16p112-deletion-syndrome', '16p112-duplication', '16p1311-microduplication-syndrome', '16q243-microdeletion-syndrome', '17-alpha-hydroxylase-deficiency', '17-beta-hydroxysteroid-dehydrogenase-3-deficiency', '17q12-deletion-syndrome', '17q12-duplication', '17q231q232-microdeletion-syndrome', '18-hydroxylase-deficiency', '19p1312-microdeletion-syndrome', '1q-duplications', '1q211-microdeletion-syndrome', '1q44-microdeletion-syndrome', '24-dienoyl-coa-reductase-deficiency', '2-hydroxyethyl-methacrylate-sensitization', '2-hydroxyglutaric-aciduria', '2-methylacetoacetyl-coa-thiolase-deficiency', '2-methylbutyryl-coa-dehydrogenase-deficiency', '20p123-microdeletion-syndrome', '21-hydroxylase-deficiency', '22q112-deletion-syndrome', '22q112-duplication-syndrome', '22q133-deletion-syndrome', '2p15p161-microdeletion-syndrome', '2q231-microdeletion-syndrome', '2q37-deletion-syndrome', '3-alpha-hydroxyacyl-coa-dehydrogenase-deficiency', '3-beta-hydroxysteroid-dehydrogenase-deficiency', '3-hydroxyisobutyric-aciduria', '3-methylcrotonyl-coa-carboxylase-deficiency', '3-methylglutaconyl-coa-hydratase-deficiency-auh-defect', '3m-syndrome', '3mc-syndrome', '3q29-microdeletion-syndrome', '4-hydroxyphenylacetic-aciduria', '46-xy-disorders-of-sexual-development', '46xx-gonadal-dysgenesis-epibulbar-dermoid', '46xx-testicular-disorder-of-sex-development', '47-xxx-syndrome', '47-xxy', '47-xyy-syndrome', '48xxxy-syndrome', '48xxyy-syndrome', '48xyyy', '49-xxxxy-syndrome', '49-xxxyy-syndrome', '49xxxxx-syndrome', '5-alpha-reductase-deficiency', '5-nucleotidase-syndrome', '5-oxoprolinase-deficiency', '5q-syndrome', '5q143-microdeletion-syndrome', '6-pyruvoyl-tetrahydropterin-synthase-deficiency', '7q1123-duplication-syndrome', '8p-inverted-duplicationdeletion-syndrome', '8p231-duplication-syndrome', '8q12-microduplication-syndrome', 'aagenaes-syndrome', 'aarskog-syndrome', 'abdominal-aortic-aneurysm', 'abdominal-chemodectomas-with-cutaneous-angiolipomas', 'abdominal-cystic-lymphangioma', 'abdominal-obesity-metabolic-syndrome', 'aberrant-subclavian-artery', 'abetalipoproteinemia', 'ablepharon-macrostomia-syndrome', 'abri-amyloidosis', 'abruzzo-erickson-syndrome', 'absence-of-fingerprints-congenital-milia', 'absence-of-gluteal-muscle', 'absence-of-septum-pellucidum', 'absence-of-tibia', 'absence-of-tibia-with-polydactyly', 'absent-breasts-and-nipples', 'absent-patella', 'acalvaria', 'acanthamoeba-keratitis', 'acanthocheilonemiasis', 'acanthoma', 'acanthosis-nigricans', 'acanthosis-nigricans-muscle-cramps-acral-enlargement', 'acardia', 'acatalasemia', 'accessory-deep-peroneal-nerve', 'accessory-navicular-bone', 'accessory-pancreas', 'acdc', 'aceruloplasminemia', 'acetyl-coa-acetyltransferase-2-deficiency', 'acetyl-carnitine-deficiency', 'achalasia-microcephaly-syndrome', 'achard-syndrome']\n"
     ]
    }
   ],
   "source": [
    "d1 = pd.read_csv('disease_links.csv')\n",
    "\n",
    "# base_url = \"https://rarediseases.info.nih.gov/\"\n",
    "links = []\n",
    "\n",
    "for i in range(5910):\n",
    "    sub_url = d1.loc[i, \"link\"].split('/')[-1]\n",
    "    links.append(sub_url)\n",
    "print(links[:100])"
   ]
  },
  {
   "cell_type": "code",
   "execution_count": 209,
   "metadata": {},
   "outputs": [
    {
     "name": "stdout",
     "output_type": "stream",
     "text": [
      "Looks good to me, proceed... [5910/5910] working\n"
     ]
    }
   ],
   "source": [
    "viol = 0\n",
    "for link in links:\n",
    "    file_path = os.path.join('pages', link)\n",
    "    if not os.path.exists(file_path):\n",
    "        print(link)\n",
    "        viol += 1\n",
    "if viol > 0:\n",
    "    print(f\"Total {viol} violations found. Check and get back.\", end=\" \")\n",
    "else:\n",
    "    print(\"Looks good to me, proceed...\", end=\" \")\n",
    "print(f'[{len(links) - viol}/{len(links)}] working')"
   ]
  },
  {
   "cell_type": "code",
   "execution_count": 210,
   "metadata": {},
   "outputs": [],
   "source": [
    "data = []\n",
    "df = pd.DataFrame(data)"
   ]
  },
  {
   "cell_type": "code",
   "execution_count": 211,
   "metadata": {},
   "outputs": [],
   "source": [
    "num = 0\n",
    "for link in links:\n",
    "    file_path = os.path.join('pages', link)\n",
    "    with open(file_path, \"r\") as file:\n",
    "        html = file.read()\n",
    "\n",
    "    soup = BeautifulSoup(html, \"html.parser\")\n",
    "    d = {}\n",
    "    glance = soup.find('app-disease-at-a-glance-summary').div.text\n",
    "    if 'This section is currently in development.' in glance:\n",
    "        glance = ''\n",
    "    d['glance'] = glance\n",
    "    affected = soup.find('app-disease-at-a-glance-people-affected').div.text.replace('than', 'than ')\n",
    "    if 'This section is currently in development.' in affected:\n",
    "        affected = ''\n",
    "    d['affected'] = affected\n",
    "    symptoms = soup.find('app-symptoms-section')\n",
    "    symptomlist = []\n",
    "    symptoms_s = symptoms.find('div', class_='symptom-list-container')\n",
    "    if symptoms_s is not None:\n",
    "        symptoms_s = symptoms_s.find_all('button')\n",
    "        for symptom in symptoms_s:\n",
    "            symptomlist.append(symptom.text)\n",
    "    # print(symptomlist)\n",
    "    d['symptoms'] = '; '.join(symptomlist)\n",
    "    categories = soup.find('div', class_='categories-body')\n",
    "    d['categories'] = '; '.join(categories.text.split(';  '))\n",
    "    common_ages = soup.find('div', class_='ms-xl-5')\n",
    "    agelist = []\n",
    "    if common_ages is not None:\n",
    "        common_ages = common_ages.find_all('div', class_=\"active\")\n",
    "        for i in common_ages:\n",
    "            if i is not None:\n",
    "                spantext = i.find('span')\n",
    "                if spantext is not None:\n",
    "                    agelist.append(i.find('div', class_=\"under-title\").text.replace(spantext.text, ''))\n",
    "    d['ages'] = '; '.join(agelist)\n",
    "    causes = soup.find('app-causes-container')\n",
    "    causelist_s = causes.find_all('h5')\n",
    "    causelist = []\n",
    "    for i in causelist_s:\n",
    "        causelist.append(i.text)\n",
    "    d['causes'] = '; '.join(causelist)\n",
    "    dict = pd.DataFrame(d, index=[0])\n",
    "    df = pd.concat([df, dict], ignore_index=True)\n",
    "df.to_csv('disease_details.csv', index=False)"
   ]
  },
  {
   "cell_type": "code",
   "execution_count": 204,
   "metadata": {},
   "outputs": [],
   "source": [
    "file_path = 'pages/occipital-horn-syndrome'\n",
    "with open(file_path, \"r\") as file:\n",
    "    html = file.read()\n",
    "\n",
    "soup = BeautifulSoup(html, \"html.parser\").body\n",
    "# print(soup)"
   ]
  },
  {
   "cell_type": "code",
   "execution_count": 205,
   "metadata": {},
   "outputs": [],
   "source": [
    "glance = soup.find('app-disease-at-a-glance-summary').div.text\n",
    "if 'This section is currently in development.' in glance:\n",
    "    glance = ''\n",
    "df['glance'] = glance\n",
    "affected = soup.find('app-disease-at-a-glance-people-affected').div.text.replace('than', 'than ')\n",
    "if 'This section is currently in development.' in affected:\n",
    "    affected = ''\n",
    "df['affected'] = affected"
   ]
  },
  {
   "cell_type": "code",
   "execution_count": 206,
   "metadata": {},
   "outputs": [
    {
     "name": "stdout",
     "output_type": "stream",
     "text": [
      "[' Abnormal skull morphology ', ' Abnormality of the face ', ' Cerebral calcification ', ' Delayed cranial suture closure ', ' Exostoses ', ' Global developmental delay ', ' Hyperextensible skin ', ' Intellectual disability ', ' Joint hyperflexibility ', ' Large fontanelles ', ' Specific learning disability ', ' Abnormal esophagus physiology ', ' Abnormality of the sense of smell ', ' Abnormality of the wrist ', ' Atypical scarring of skin ', ' Brachydactyly ', ' Bruising susceptibility ', ' Cholestasis ', ' Dysphagia ', ' Esophagitis ', ' Gastroesophageal reflux ', ' Gastroparesis ', ' Hepatitis ', ' Hiatus hernia ', ' High, narrow palate ', ' Hypotonia ', ' Jaundice ', ' Keloids; Keloid scar ', ' Long philtrum ', ' Osteomalacia ', ' Osteopenia ', ' Osteoporosis ', ' Pectus carinatum ', ' Pectus excavatum ', ' Platyspondyly ', ' Poor suck ', ' Rickets ', ' Scarring ', ' Short palm ', ' Synostosis of joints ', ' Vascular dilatation ', ' Venous insufficiency ', ' Abnormality of fibula morphology ', ' Abnormality of the pubic bone ', ' Absent tibia ', ' Aplasia/hypoplasia of the humerus ', ' Aplastic clavicle ', ' Avascular necrosis of the capital femoral epiphysis ', ' Bladder diverticulum ', ' Coarse hair ', ' Coxa valga ', ' Coxa vara ', ' Down-sloping shoulders ', ' Downslanted palpebral fissures ', ' Femoral hernia ', ' Genu valgum ', ' High forehead ', ' Hip dislocation ', ' Hip dysplasia ', ' Humerus varus ', ' Inguinal hernia ', ' Kyphosis ', ' Large iliac wings ', ' Narrow chest ', ' Osteolysis ', ' Pes planus ', ' Recurrent urinary tract infections ', ' Scoliosis ', ' Thick hair ']\n"
     ]
    }
   ],
   "source": [
    "symptoms = soup.find('app-symptoms-section')\n",
    "symptomlist = []\n",
    "symptoms_s = symptoms.find('div', class_='symptom-list-container')\n",
    "if symptoms_s is not None:\n",
    "    symptoms_s = symptoms_s.find_all('button')\n",
    "    for symptom in symptoms_s:\n",
    "        symptomlist.append(symptom.text)\n",
    "print(symptomlist)\n",
    "df['symptoms'] = '; '.join(symptomlist)"
   ]
  },
  {
   "cell_type": "code",
   "execution_count": 186,
   "metadata": {},
   "outputs": [],
   "source": [
    "categories = soup.find('div', class_='categories-body')\n",
    "# print('; '.join(categories.text.split(';  ')))\n",
    "df['categories'] = '; '.join(categories.text.split(';  '))"
   ]
  },
  {
   "cell_type": "code",
   "execution_count": 187,
   "metadata": {},
   "outputs": [],
   "source": [
    "common_ages = soup.find('div', class_='ms-xl-5')\n",
    "agelist = []\n",
    "if common_ages is not None:\n",
    "    common_ages = common_ages.find_all('div', class_=\"active\")\n",
    "    for i in common_ages:\n",
    "        if i is not None:\n",
    "            spantext = i.find('span')\n",
    "            if spantext is not None:\n",
    "                agelist.append(i.find('div', class_=\"under-title\").text.replace(spantext.text, ''))\n",
    "df['ages'] = '; '.join(agelist)"
   ]
  },
  {
   "cell_type": "code",
   "execution_count": 189,
   "metadata": {},
   "outputs": [
    {
     "name": "stdout",
     "output_type": "stream",
     "text": [
      "[]\n"
     ]
    }
   ],
   "source": [
    "causes = soup.find('app-causes-container')\n",
    "causelist_s = causes.find_all('h5')\n",
    "causelist = []\n",
    "for i in causelist_s:\n",
    "    causelist.append(i.text)\n",
    "df['causes'] = '; '.join(causelist)"
   ]
  }
 ],
 "metadata": {
  "kernelspec": {
   "display_name": "Python 3 (ipykernel)",
   "language": "python",
   "name": "python3"
  },
  "language_info": {
   "codemirror_mode": {
    "name": "ipython",
    "version": 3
   },
   "file_extension": ".py",
   "mimetype": "text/x-python",
   "name": "python",
   "nbconvert_exporter": "python",
   "pygments_lexer": "ipython3",
   "version": "3.10.8"
  },
  "vscode": {
   "interpreter": {
    "hash": "aee8b7b246df8f9039afb4144a1f6fd8d2ca17a180786b69acc140d282b71a49"
   }
  }
 },
 "nbformat": 4,
 "nbformat_minor": 2
}
